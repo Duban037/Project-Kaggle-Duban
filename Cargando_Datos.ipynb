{
  "cells": [
    {
      "cell_type": "code",
      "execution_count": 2,
      "metadata": {
        "id": "0OVdaVnt_ufM"
      },
      "outputs": [
        {
          "name": "stdout",
          "output_type": "stream",
          "text": [
            "Hola\n"
          ]
        }
      ],
      "source": [
        "print('Hola')"
      ]
    },
    {
      "cell_type": "markdown",
      "metadata": {},
      "source": [
        "La idea es empezar a cargar los datos y poder observarlos."
      ]
    },
    {
      "cell_type": "code",
      "execution_count": null,
      "metadata": {
        "id": "JOvE2FnAAyj3"
      },
      "outputs": [],
      "source": [
        "hbakjsdhbgkj\r\n",
        "asfdgasd\r\n"
      ]
    }
  ],
  "metadata": {
    "colab": {
      "collapsed_sections": [],
      "name": "Cargando Datos.ipynb",
      "provenance": []
    },
    "kernelspec": {
      "display_name": "Python 3.8.5 64-bit ('base': conda)",
      "name": "python385jvsc74a57bd011ffc019a02cc0e21e59860b66c88ea81995ce9237607e8ab2c087a287ee4867"
    },
    "language_info": {
      "name": "python",
      "version": ""
    }
  },
  "nbformat": 4,
  "nbformat_minor": 0
}