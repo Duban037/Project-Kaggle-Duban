{
  "nbformat": 4,
  "nbformat_minor": 0,
  "metadata": {
    "colab": {
      "name": "Taller 2.ipynb",
      "provenance": []
    },
    "kernelspec": {
      "name": "python3",
      "display_name": "Python 3"
    },
    "language_info": {
      "name": "python"
    }
  },
  "cells": [
    {
      "cell_type": "code",
      "metadata": {
        "id": "sA9f-4FhyCuJ"
      },
      "source": [
        "import numpy as np\n",
        "import matplotlib.pyplot as plt\n"
      ],
      "execution_count": null,
      "outputs": []
    },
    {
      "cell_type": "markdown",
      "metadata": {
        "id": "GdAwzblsw_EU"
      },
      "source": [
        "# Ejercicio 1\n",
        "\n",
        "Utilice el ejemplo de muestreo para encontrar la mediana, media y varianza de las distribuciones:\n",
        "\n",
        "1. Exponencial: $\\tau=100$\n",
        "2. Chi2: $n=8$\n",
        "3. Normal: $\\mu=50$, $\\sigma=15$\n",
        "4. Poisson: $\\nu=123$"
      ]
    },
    {
      "cell_type": "code",
      "metadata": {
        "id": "40_eI69Jx7qv"
      },
      "source": [
        "Uniforme = np.random.uniform(0,100,100000)"
      ],
      "execution_count": null,
      "outputs": []
    },
    {
      "cell_type": "code",
      "metadata": {
        "colab": {
          "base_uri": "https://localhost:8080/",
          "height": 265
        },
        "id": "zep5idrpyXtU",
        "outputId": "d7cd0af0-efab-4017-9968-b56807bcb155"
      },
      "source": [
        "HistoUniforme = plt.hist(Uniforme)"
      ],
      "execution_count": null,
      "outputs": [
        {
          "output_type": "display_data",
          "data": {
            "image/png": "[encoded data removed]",
            "text/plain": [
              "<Figure size 432x288 with 1 Axes>"
            ]
          },
          "metadata": {
            "tags": [],
            "needs_background": "light"
          }
        }
      ]
    },
    {
      "cell_type": "code",
      "metadata": {
        "id": "jVLQk4U8yj_O"
      },
      "source": [
        "def SomeStats(MyArray,PrintIt=False):\n",
        "  Mediana=np.median(MyArray)\n",
        "  Media=np.mean(MyArray)\n",
        "  Varianza=np.var(MyArray)\n",
        "  STD=np.std(MyArray)\n",
        "  if PrintIt:\n",
        "    print(\"Mediana=\", Mediana)\n",
        "    print(\"Media=\", Media)\n",
        "    print(\"Varianza=\", Varianza, \"Raíz cuadrada de la varianza=\", np.sqrt(Varianza))\n",
        "    print(\"Desviación estándar\", STD)\n",
        "  return Mediana,Media,Varianza,STD"
      ],
      "execution_count": null,
      "outputs": []
    },
    {
      "cell_type": "code",
      "metadata": {
        "colab": {
          "base_uri": "https://localhost:8080/"
        },
        "id": "zDW06AexyoHe",
        "outputId": "f8101608-3db2-4f4c-8339-aa007f550d22"
      },
      "source": [
        "SomeStats(Uniforme,PrintIt=True)"
      ],
      "execution_count": null,
      "outputs": [
        {
          "output_type": "stream",
          "text": [
            "Mediana= 49.880645839504716\n",
            "Media= 49.90821428791984\n",
            "Varianza= 834.7992134178018 Raíz cuadrada de la varianza= 28.892892091616613\n",
            "Desviación estándar 28.892892091616613\n"
          ],
          "name": "stdout"
        },
        {
          "output_type": "execute_result",
          "data": {
            "text/plain": [
              "(49.880645839504716, 49.90821428791984, 834.7992134178018, 28.892892091616613)"
            ]
          },
          "metadata": {
            "tags": []
          },
          "execution_count": 160
        }
      ]
    },
    {
      "cell_type": "code",
      "metadata": {
        "id": "PtfO6bAzy4Qz"
      },
      "source": [
        "Expo = np.random.exponential(100,100000)\n"
      ],
      "execution_count": null,
      "outputs": []
    },
    {
      "cell_type": "code",
      "metadata": {
        "colab": {
          "base_uri": "https://localhost:8080/",
          "height": 265
        },
        "id": "j6BQVXDszSAP",
        "outputId": "1f491be7-cb70-4e2b-a070-b6995b1a4031"
      },
      "source": [
        "HistoExpo = plt.hist(Expo)"
      ],
      "execution_count": null,
      "outputs": [
        {
          "output_type": "display_data",
          "data": {
            "image/png": "[encoded data removed]",
            "text/plain": [
              "<Figure size 432x288 with 1 Axes>"
            ]
          },
          "metadata": {
            "tags": [],
            "needs_background": "light"
          }
        }
      ]
    },
    {
      "cell_type": "code",
      "metadata": {
        "colab": {
          "base_uri": "https://localhost:8080/"
        },
        "id": "3jAJmG5PzUr2",
        "outputId": "37bff50d-e20d-4156-b884-4b1fb7a9c0d9"
      },
      "source": [
        "SomeStats(Expo,PrintIt=True)"
      ],
      "execution_count": null,
      "outputs": [
        {
          "output_type": "stream",
          "text": [
            "Mediana= 69.49179630994556\n",
            "Media= 100.41380532513598\n",
            "Varianza= 10144.10424230023 Raíz cuadrada de la varianza= 100.71794399361134\n",
            "Desviación estándar 100.71794399361134\n"
          ],
          "name": "stdout"
        },
        {
          "output_type": "execute_result",
          "data": {
            "text/plain": [
              "(69.49179630994556, 100.41380532513598, 10144.10424230023, 100.71794399361134)"
            ]
          },
          "metadata": {
            "tags": []
          },
          "execution_count": 163
        }
      ]
    },
    {
      "cell_type": "code",
      "metadata": {
        "id": "r-ed_MKFbpQs"
      },
      "source": [
        "Chi2 = np.random.chisquare(8,1000)\n"
      ],
      "execution_count": null,
      "outputs": []
    },
    {
      "cell_type": "code",
      "metadata": {
        "colab": {
          "base_uri": "https://localhost:8080/",
          "height": 265
        },
        "id": "39lIhBBJgZgz",
        "outputId": "5a1b9ef6-f532-43a9-dc30-0cfcff4cffe4"
      },
      "source": [
        "HistoChi2 = plt.hist(Chi2)"
      ],
      "execution_count": null,
      "outputs": [
        {
          "output_type": "display_data",
          "data": {
            "image/png": "[encoded data removed]",
            "text/plain": [
              "<Figure size 432x288 with 1 Axes>"
            ]
          },
          "metadata": {
            "tags": [],
            "needs_background": "light"
          }
        }
      ]
    },
    {
      "cell_type": "code",
      "metadata": {
        "colab": {
          "base_uri": "https://localhost:8080/"
        },
        "id": "4ex4WMlWgiM5",
        "outputId": "f76fa058-9599-444d-c315-f6edf56690b7"
      },
      "source": [
        "SomeStats(Chi2,PrintIt=True)"
      ],
      "execution_count": null,
      "outputs": [
        {
          "output_type": "stream",
          "text": [
            "Mediana= 7.213024779410096\n",
            "Media= 7.932171677049703\n",
            "Varianza= 15.454670169635444 Raíz cuadrada de la varianza= 3.9312428276100477\n",
            "Desviación estándar 3.9312428276100477\n"
          ],
          "name": "stdout"
        },
        {
          "output_type": "execute_result",
          "data": {
            "text/plain": [
              "(7.213024779410096, 7.932171677049703, 15.454670169635444, 3.9312428276100477)"
            ]
          },
          "metadata": {
            "tags": []
          },
          "execution_count": 166
        }
      ]
    },
    {
      "cell_type": "code",
      "metadata": {
        "id": "-BeFL9eJgn2p"
      },
      "source": [
        "Norm = np.random.normal(50,15,100000)\n"
      ],
      "execution_count": null,
      "outputs": []
    },
    {
      "cell_type": "code",
      "metadata": {
        "colab": {
          "base_uri": "https://localhost:8080/",
          "height": 265
        },
        "id": "a7t6TiLIgo3q",
        "outputId": "574bf186-eea2-4c14-e695-20466aa1ed0e"
      },
      "source": [
        "HistoNorm = plt.hist(Norm)"
      ],
      "execution_count": null,
      "outputs": [
        {
          "output_type": "display_data",
          "data": {
            "image/png": "[encoded data removed]",
            "text/plain": [
              "<Figure size 432x288 with 1 Axes>"
            ]
          },
          "metadata": {
            "tags": [],
            "needs_background": "light"
          }
        }
      ]
    },
    {
      "cell_type": "code",
      "metadata": {
        "colab": {
          "base_uri": "https://localhost:8080/"
        },
        "id": "POtmnB_JgvUi",
        "outputId": "afb04917-1a3c-4203-e9df-178d568c33e1"
      },
      "source": [
        "SomeStats(Norm,PrintIt=True)"
      ],
      "execution_count": null,
      "outputs": [
        {
          "output_type": "stream",
          "text": [
            "Mediana= 49.993386035820194\n",
            "Media= 49.968228294226535\n",
            "Varianza= 223.27591751557995 Raíz cuadrada de la varianza= 14.94242006890383\n",
            "Desviación estándar 14.94242006890383\n"
          ],
          "name": "stdout"
        },
        {
          "output_type": "execute_result",
          "data": {
            "text/plain": [
              "(49.993386035820194, 49.968228294226535, 223.27591751557995, 14.94242006890383)"
            ]
          },
          "metadata": {
            "tags": []
          },
          "execution_count": 169
        }
      ]
    },
    {
      "cell_type": "code",
      "metadata": {
        "id": "jd8h6vQtg4Iy"
      },
      "source": [
        "Poi = np.random.poisson(123,1000)\n"
      ],
      "execution_count": null,
      "outputs": []
    },
    {
      "cell_type": "code",
      "metadata": {
        "colab": {
          "base_uri": "https://localhost:8080/",
          "height": 265
        },
        "id": "FvSj6gxpg5YL",
        "outputId": "b13a2df2-0d9b-4111-ec62-131884914bf8"
      },
      "source": [
        "HistoPoi = plt.hist(Poi)"
      ],
      "execution_count": null,
      "outputs": [
        {
          "output_type": "display_data",
          "data": {
            "image/png": "[encoded data removed]",
            "text/plain": [
              "<Figure size 432x288 with 1 Axes>"
            ]
          },
          "metadata": {
            "tags": [],
            "needs_background": "light"
          }
        }
      ]
    },
    {
      "cell_type": "markdown",
      "metadata": {
        "id": "GXsm74_JhZTF"
      },
      "source": [
        "# Ejercicio 2\n",
        "\n",
        "Tome n = 10, 20, 100, 200 variables aleatorias. Todas ellas distribuidas con una distribución distinta a la normal. Demuestre que la suma de todas ellas para cada n se ajusta al teorema del límite central."
      ]
    },
    {
      "cell_type": "code",
      "metadata": {
        "id": "jROxzvcKnrNE"
      },
      "source": [
        "def MakeChi(n,k):\n",
        "  Chi=[0]*k\n",
        "  for i in range(n):\n",
        "    Chi=+np.random.chisquare(10,k)\n",
        "  return Chi"
      ],
      "execution_count": null,
      "outputs": []
    },
    {
      "cell_type": "code",
      "metadata": {
        "id": "pxqD3ru-hb23"
      },
      "source": [
        "def MakeChi2(n,k):\n",
        "  Expo=np.zeros(k)\n",
        "  i=0\n",
        "  while i<n:\n",
        "    x=np.random.randint(1,10)\n",
        "    variable=np.random.chisquare(x,k)\n",
        "    Expo=Expo+variable\n",
        "    i+=1\n",
        "  return Expo"
      ],
      "execution_count": null,
      "outputs": []
    },
    {
      "cell_type": "code",
      "metadata": {
        "colab": {
          "base_uri": "https://localhost:8080/",
          "height": 297
        },
        "id": "GCEDxE4ypiIj",
        "outputId": "26559d92-ba21-4179-efb7-34a2c3793aee"
      },
      "source": [
        "\n",
        "ax1=plt.subplot(321)\n",
        "plt.hist(MakeChi2(10,10000),100)\n",
        "plt.title('n=10')\n",
        "\n",
        "ax2=plt.subplot(322)\n",
        "plt.hist(MakeChi2(20,10000),100)\n",
        "plt.title('n=20')\n",
        "\n",
        "ax3=plt.subplot(323)\n",
        "plt.hist(MakeChi2(100,10000),100)\n",
        "plt.title('n=100')\n",
        "\n",
        "ax4=plt.subplot(324)\n",
        "plt.hist(MakeChi2(200,10000),100)\n",
        "plt.title('n=200')\n",
        "\n",
        "ax1=plt.subplot(325)\n",
        "plt.hist(MakeChi2(500,10000),100)\n",
        "plt.title('n=500')\n",
        "\n",
        "ax1=plt.subplot(326)\n",
        "plt.hist(MakeChi2(1000,10000),100)\n",
        "plt.title('n=1000')\n",
        "plt.tight_layout()\n",
        "\n",
        "plt.show()"
      ],
      "execution_count": null,
      "outputs": [
        {
          "output_type": "display_data",
          "data": {
            "image/png": "[encoded data removed]",
            "text/plain": [
              "<Figure size 432x288 with 6 Axes>"
            ]
          },
          "metadata": {
            "tags": [],
            "needs_background": "light"
          }
        }
      ]
    },
    {
      "cell_type": "code",
      "metadata": {
        "id": "c0qXpdN5wXHf"
      },
      "source": [
        "def MakeExpo(n,k):\n",
        "  Expo=[0]*k\n",
        "  for i in range(n):\n",
        "    Expo=+np.random.exponential(i,k)\n",
        "  return Expo"
      ],
      "execution_count": null,
      "outputs": []
    },
    {
      "cell_type": "code",
      "metadata": {
        "id": "tZW5uc7qeoMs"
      },
      "source": [
        "def MakeExpo2(n,k):\n",
        "  Expo=np.zeros(k)\n",
        "  i=0\n",
        "  while i<n:\n",
        "    x=np.random.randint(1,100)\n",
        "    variable=np.random.exponential(x,k)\n",
        "    Expo=Expo+variable\n",
        "    i+=1\n",
        "  return Expo"
      ],
      "execution_count": null,
      "outputs": []
    },
    {
      "cell_type": "code",
      "metadata": {
        "colab": {
          "base_uri": "https://localhost:8080/",
          "height": 297
        },
        "id": "vLraY4w1ww7P",
        "outputId": "2f316c5e-8d72-4f26-d445-c72fec68f291"
      },
      "source": [
        "ax1=plt.subplot(321)\n",
        "plt.hist(MakeExpo2(10,10000),100)\n",
        "plt.title('n=10')\n",
        "\n",
        "ax2=plt.subplot(322)\n",
        "plt.hist(MakeExpo2(20,10000),100)\n",
        "plt.title('n=20')\n",
        "\n",
        "ax3=plt.subplot(323)\n",
        "plt.hist(MakeExpo2(100,10000),100)\n",
        "plt.title('n=100')\n",
        "\n",
        "ax4=plt.subplot(324)\n",
        "plt.hist(MakeExpo2(200,10000),100)\n",
        "plt.title('n=200')\n",
        "\n",
        "ax1=plt.subplot(325)\n",
        "plt.hist(MakeExpo2(500,10000),100)\n",
        "plt.title('n=500')\n",
        "\n",
        "ax1=plt.subplot(326)\n",
        "plt.hist(MakeExpo2(1000,10000),100)\n",
        "plt.title('n=1000')\n",
        "plt.tight_layout()\n",
        "plt.show()"
      ],
      "execution_count": null,
      "outputs": [
        {
          "output_type": "display_data",
          "data": {
            "image/png": "[encoded data removed]",
            "text/plain": [
              "<Figure size 432x288 with 6 Axes>"
            ]
          },
          "metadata": {
            "tags": [],
            "needs_background": "light"
          }
        }
      ]
    },
    {
      "cell_type": "code",
      "metadata": {
        "id": "OlaosnqlxodX"
      },
      "source": [
        "H=MakeChi2(1000,10000)+MakeExpo2(1000,10000)"
      ],
      "execution_count": null,
      "outputs": []
    },
    {
      "cell_type": "code",
      "metadata": {
        "colab": {
          "base_uri": "https://localhost:8080/",
          "height": 265
        },
        "id": "qzI4XOJfyF_b",
        "outputId": "3efbc751-cc40-433d-e0d6-53ea026c76b1"
      },
      "source": [
        "plt.hist(H,100)\n",
        "plt.show()"
      ],
      "execution_count": null,
      "outputs": [
        {
          "output_type": "display_data",
          "data": {
            "image/png": "[encoded data removed]",
            "text/plain": [
              "<Figure size 432x288 with 1 Axes>"
            ]
          },
          "metadata": {
            "tags": [],
            "needs_background": "light"
          }
        }
      ]
    },
    {
      "cell_type": "markdown",
      "metadata": {
        "id": "tr7QClwPhdLh"
      },
      "source": [
        "## Ejercicio 3\n",
        "\n",
        "Utilice el ejemplo de muestreo para encontrar la media y varianza de la exponencial de una variable distribuída de forma uniforme, como en la celda anterior.\n"
      ]
    },
    {
      "cell_type": "code",
      "metadata": {
        "colab": {
          "base_uri": "https://localhost:8080/",
          "height": 266
        },
        "id": "9QrxTRpxYRoV",
        "outputId": "90b73a80-e33d-447f-892d-d971c5c8cb4e"
      },
      "source": [
        "Uni = np.random.uniform(0,10,100000)\n",
        "HistoExpdeUni = plt.hist(np.exp(Uni))"
      ],
      "execution_count": null,
      "outputs": [
        {
          "output_type": "display_data",
          "data": {
            "image/png": "[encoded data removed]",
            "text/plain": [
              "<Figure size 432x288 with 1 Axes>"
            ]
          },
          "metadata": {
            "tags": [],
            "needs_background": "light"
          }
        }
      ]
    },
    {
      "cell_type": "code",
      "metadata": {
        "colab": {
          "base_uri": "https://localhost:8080/",
          "height": 265
        },
        "id": "2YobDtS9YYml",
        "outputId": "4dcc10c2-5430-4ee4-db46-f701ada28e7b"
      },
      "source": [
        "Norm1 = np.random.normal(1,0.1,10000)\n",
        "HistoExpdeNorm = plt.hist(Norm1)"
      ],
      "execution_count": null,
      "outputs": [
        {
          "output_type": "display_data",
          "data": {
            "image/png": "[encoded data removed]",
            "text/plain": [
              "<Figure size 432x288 with 1 Axes>"
            ]
          },
          "metadata": {
            "tags": [],
            "needs_background": "light"
          }
        }
      ]
    },
    {
      "cell_type": "code",
      "metadata": {
        "colab": {
          "base_uri": "https://localhost:8080/",
          "height": 267
        },
        "id": "T-iElMjoYbdP",
        "outputId": "1dc422d5-9278-4b54-d6e9-c059ec82cc1d"
      },
      "source": [
        "HistoExpdeNorm = plt.hist(np.exp(Norm1))"
      ],
      "execution_count": null,
      "outputs": [
        {
          "output_type": "display_data",
          "data": {
            "image/png": "[encoded data removed]",
            "text/plain": [
              "<Figure size 432x288 with 1 Axes>"
            ]
          },
          "metadata": {
            "tags": [],
            "needs_background": "light"
          }
        }
      ]
    },
    {
      "cell_type": "code",
      "metadata": {
        "colab": {
          "base_uri": "https://localhost:8080/"
        },
        "id": "Jql5BA8PY0hp",
        "outputId": "ce8b7673-02f7-48e3-c525-d8575e5902db"
      },
      "source": [
        "HistoExpdeNorm[0]"
      ],
      "execution_count": null,
      "outputs": [
        {
          "output_type": "execute_result",
          "data": {
            "text/plain": [
              "array([  10.,  177., 1061., 2497., 2883., 2117.,  920.,  265.,   58.,\n",
              "         12.])"
            ]
          },
          "metadata": {
            "tags": []
          },
          "execution_count": 183
        }
      ]
    },
    {
      "cell_type": "code",
      "metadata": {
        "colab": {
          "base_uri": "https://localhost:8080/"
        },
        "id": "QFMrITdfYq6M",
        "outputId": "8a49f92e-5022-4d40-8876-8b30cbefa632"
      },
      "source": [
        "SomeStats(HistoExpdeNorm[1],PrintIt=True)"
      ],
      "execution_count": null,
      "outputs": [
        {
          "output_type": "stream",
          "text": [
            "Mediana= 2.8391247173614196\n",
            "Media= 2.83912471736142\n",
            "Varianza= 0.4408379618375044 Raíz cuadrada de la varianza= 0.6639562951260455\n",
            "Desviación estándar 0.6639562951260455\n"
          ],
          "name": "stdout"
        },
        {
          "output_type": "execute_result",
          "data": {
            "text/plain": [
              "(2.8391247173614196, 2.83912471736142, 0.4408379618375044, 0.6639562951260455)"
            ]
          },
          "metadata": {
            "tags": []
          },
          "execution_count": 184
        }
      ]
    },
    {
      "cell_type": "markdown",
      "metadata": {
        "id": "1F5KbpKfOrb6"
      },
      "source": [
        "## Ejercicio 4\n",
        "1. Siguiendo el ejemplo dado encuentre la media que minimiza el $\\chi^{2}$.\n",
        "2. Basándose en el ejemplo, haga el caso para una distribución exponencial. Genere aleatoriamente el parámetro $\\tau$ y por medio del método de minimización de $\\chi^{2}$ encuentre dicho parámetro.\n",
        "3. Repita el ejemplo de la Gaussiana generada aleatoriamente pero ahora genere también de forma aleatoria la desviación estándar. Haga un scan en dos dimensiones para encontrar de forma simultánea la desviación estándar y la media."
      ]
    },
    {
      "cell_type": "code",
      "metadata": {
        "colab": {
          "base_uri": "https://localhost:8080/",
          "height": 265
        },
        "id": "SWbe8np3FAgA",
        "outputId": "9e130d43-5561-4187-a7d7-06171e635584"
      },
      "source": [
        "Media=np.random.uniform(60,70)\n",
        "STD=1\n",
        "Nbins=np.linspace(50,80,30)\n",
        "GaussianaRandom = np.random.normal(Media,STD,100000)\n",
        "HistoGaussRandom = plt.hist(GaussianaRandom,bins=Nbins)"
      ],
      "execution_count": null,
      "outputs": [
        {
          "output_type": "display_data",
          "data": {
            "image/png": "[encoded data removed]",
            "text/plain": [
              "<Figure size 432x288 with 1 Axes>"
            ]
          },
          "metadata": {
            "tags": [],
            "needs_background": "light"
          }
        }
      ]
    },
    {
      "cell_type": "code",
      "metadata": {
        "id": "tidNvZFGU-M2"
      },
      "source": [
        ""
      ],
      "execution_count": null,
      "outputs": []
    },
    {
      "cell_type": "code",
      "metadata": {
        "id": "IPtv1Pv3FB6f"
      },
      "source": [
        "def chi2test(Obs,Exp):\n",
        "  if len(Obs)!=len(Exp):\n",
        "    print(\"El histograma observado como esperado deben tener la misma cantidad de bines\")\n",
        "    return\n",
        "  Chi2=0.\n",
        "  for i in range(len(Obs)):\n",
        "    if Exp[i]==0.0: continue\n",
        "    Chi2+=((Obs[i]-Exp[i])**2)/Exp[i]\n",
        "  return Chi2"
      ],
      "execution_count": null,
      "outputs": []
    },
    {
      "cell_type": "code",
      "metadata": {
        "colab": {
          "base_uri": "https://localhost:8080/",
          "height": 265
        },
        "id": "Z56778lsFFzQ",
        "outputId": "ba2d1abc-5262-4677-feae-0e70dea0cdd0"
      },
      "source": [
        "HipotesisMean=np.linspace(65,75,100)\n",
        "\n",
        "MuestrasHipotesis=[]\n",
        "HistogramasHipotesis=[]\n",
        "for i in range(len(HipotesisMean)):\n",
        "  MuestrasHipotesis.append(np.random.normal(HipotesisMean[i],STD,100000))\n",
        "  HistogramasHipotesis.append(plt.hist(MuestrasHipotesis[-1],bins=Nbins, alpha = 0.5)[0])"
      ],
      "execution_count": null,
      "outputs": [
        {
          "output_type": "display_data",
          "data": {
            "image/png": "[encoded data removed]",
            "text/plain": [
              "<Figure size 432x288 with 1 Axes>"
            ]
          },
          "metadata": {
            "tags": [],
            "needs_background": "light"
          }
        }
      ]
    },
    {
      "cell_type": "code",
      "metadata": {
        "id": "lRNlGNCdFIwB"
      },
      "source": [
        "AnalizandoChi2=[]\n",
        "for i in range(len(HipotesisMean)):\n",
        "  AnalizandoChi2.append(chi2test(HistoGaussRandom[0],HistogramasHipotesis[i]))"
      ],
      "execution_count": null,
      "outputs": []
    },
    {
      "cell_type": "code",
      "metadata": {
        "colab": {
          "base_uri": "https://localhost:8080/",
          "height": 276
        },
        "id": "_GpKMBdKFKaq",
        "outputId": "55ccc2bd-03d9-4f3f-aff4-f8aeb76c12b0"
      },
      "source": [
        "plt.plot(HipotesisMean,np.array(AnalizandoChi2))\n",
        "plt.show()"
      ],
      "execution_count": null,
      "outputs": [
        {
          "output_type": "display_data",
          "data": {
            "image/png": "[encoded data removed]",
            "text/plain": [
              "<Figure size 432x288 with 1 Axes>"
            ]
          },
          "metadata": {
            "tags": [],
            "needs_background": "light"
          }
        }
      ]
    },
    {
      "cell_type": "code",
      "metadata": {
        "colab": {
          "base_uri": "https://localhost:8080/",
          "height": 276
        },
        "id": "a9W-VWalFM6D",
        "outputId": "7d6777ef-63af-4804-e9fa-2d90bce9475a"
      },
      "source": [
        "plt.plot(np.array(AnalizandoChi2)/(len(Nbins)-1))\n",
        "plt.show()"
      ],
      "execution_count": null,
      "outputs": [
        {
          "output_type": "display_data",
          "data": {
            "image/png": "[encoded data removed]",
            "text/plain": [
              "<Figure size 432x288 with 1 Axes>"
            ]
          },
          "metadata": {
            "tags": [],
            "needs_background": "light"
          }
        }
      ]
    },
    {
      "cell_type": "code",
      "metadata": {
        "colab": {
          "base_uri": "https://localhost:8080/"
        },
        "id": "DQ0tSpGmUZVP",
        "outputId": "cb17d2c5-6e78-484c-cbc6-7c7a59ce22d7"
      },
      "source": [
        "np.array(AnalizandoChi2).argmin()"
      ],
      "execution_count": null,
      "outputs": [
        {
          "output_type": "execute_result",
          "data": {
            "text/plain": [
              "29"
            ]
          },
          "metadata": {
            "tags": []
          },
          "execution_count": 200
        }
      ]
    },
    {
      "cell_type": "code",
      "metadata": {
        "colab": {
          "base_uri": "https://localhost:8080/"
        },
        "id": "FAf4g6xcUsd3",
        "outputId": "a616a5ce-15e7-4673-c9f9-f0c2a8da715d"
      },
      "source": [
        "AnalizandoChi2[47]"
      ],
      "execution_count": null,
      "outputs": [
        {
          "output_type": "execute_result",
          "data": {
            "text/plain": [
              "1819448.396800797"
            ]
          },
          "metadata": {
            "tags": []
          },
          "execution_count": 201
        }
      ]
    },
    {
      "cell_type": "code",
      "metadata": {
        "colab": {
          "base_uri": "https://localhost:8080/"
        },
        "id": "dRotJufvVy0X",
        "outputId": "da2ba4cc-6614-4cc5-9c20-ea4364309041"
      },
      "source": [
        "HipotesisMean[47]"
      ],
      "execution_count": null,
      "outputs": [
        {
          "output_type": "execute_result",
          "data": {
            "text/plain": [
              "69.74747474747474"
            ]
          },
          "metadata": {
            "tags": []
          },
          "execution_count": 202
        }
      ]
    },
    {
      "cell_type": "code",
      "metadata": {
        "colab": {
          "base_uri": "https://localhost:8080/",
          "height": 265
        },
        "id": "04cOHALIWIEd",
        "outputId": "e164af92-62b0-4dd7-a12a-bae4fc2b0daf"
      },
      "source": [
        "Tau=np.random.uniform(50,100)\n",
        "Nbins1=100\n",
        "Expo = np.random.exponential(Tau,100000)\n",
        "HistoExpoRandom = plt.hist(Expo,bins=Nbins1)"
      ],
      "execution_count": null,
      "outputs": [
        {
          "output_type": "display_data",
          "data": {
            "image/png": "[encoded data removed]",
            "text/plain": [
              "<Figure size 432x288 with 1 Axes>"
            ]
          },
          "metadata": {
            "tags": [],
            "needs_background": "light"
          }
        }
      ]
    },
    {
      "cell_type": "code",
      "metadata": {
        "colab": {
          "base_uri": "https://localhost:8080/",
          "height": 265
        },
        "id": "4E4tng1tW-md",
        "outputId": "c7c94cc5-5bc4-4f12-89a8-9748d77f76e3"
      },
      "source": [
        "HipotesisTau=np.linspace(50,60,100)\n",
        "MuestrasHipotesisExpo=[]\n",
        "HistogramasHipotesis1=[]\n",
        "for i in range(len(HipotesisMean)):\n",
        "  MuestrasHipotesisExpo.append(np.random.exponential(HipotesisTau[i],10000))\n",
        "  HistogramasHipotesis1.append(plt.hist(MuestrasHipotesisExpo[-1],bins=Nbins1, alpha = 0.5)[0])"
      ],
      "execution_count": null,
      "outputs": [
        {
          "output_type": "display_data",
          "data": {
            "image/png": "[encoded data removed]",
            "text/plain": [
              "<Figure size 432x288 with 1 Axes>"
            ]
          },
          "metadata": {
            "tags": [],
            "needs_background": "light"
          }
        }
      ]
    },
    {
      "cell_type": "code",
      "metadata": {
        "id": "MuxMWiGqXbdU"
      },
      "source": [
        "Analizando1Chi2=[]\n",
        "for i in range(len(HipotesisTau)):\n",
        "  Analizando1Chi2.append(chi2test(HistoExpoRandom[0],HistogramasHipotesis1[i]))"
      ],
      "execution_count": null,
      "outputs": []
    },
    {
      "cell_type": "code",
      "metadata": {
        "id": "NiZKoU8pX-yv"
      },
      "source": [
        "A=np.array(Analizando1Chi2).argmin()"
      ],
      "execution_count": null,
      "outputs": []
    },
    {
      "cell_type": "code",
      "metadata": {
        "colab": {
          "base_uri": "https://localhost:8080/"
        },
        "id": "TC3zqhn8YLw0",
        "outputId": "c86b8a59-3acc-4ff6-a213-270f38602372"
      },
      "source": [
        "HipotesisTau[A]"
      ],
      "execution_count": null,
      "outputs": [
        {
          "output_type": "execute_result",
          "data": {
            "text/plain": [
              "50.303030303030305"
            ]
          },
          "metadata": {
            "tags": []
          },
          "execution_count": 221
        }
      ]
    },
    {
      "cell_type": "code",
      "metadata": {
        "colab": {
          "base_uri": "https://localhost:8080/",
          "height": 265
        },
        "id": "F36QW1i3boSw",
        "outputId": "7d2709be-be1f-4e21-c7bb-53594545dc5f"
      },
      "source": [
        "Media=np.random.uniform(60,70)\n",
        "STD=np.random.uniform(1,2)\n",
        "Nbins2=np.linspace(55,75,20)\n",
        "GaussianaRandom = np.random.normal(Media,STD,100000)\n",
        "HistoGaussRandom1 = plt.hist(GaussianaRandom,bins=Nbins2)"
      ],
      "execution_count": null,
      "outputs": [
        {
          "output_type": "display_data",
          "data": {
            "image/png": "[encoded data removed]",
            "text/plain": [
              "<Figure size 432x288 with 1 Axes>"
            ]
          },
          "metadata": {
            "tags": [],
            "needs_background": "light"
          }
        }
      ]
    },
    {
      "cell_type": "code",
      "metadata": {
        "colab": {
          "base_uri": "https://localhost:8080/",
          "height": 265
        },
        "id": "LjEfbDNEb9FZ",
        "outputId": "793711d4-c274-421e-98d3-f9fb803a5057"
      },
      "source": [
        "HipotesisMean=np.linspace(65,75,20)\n",
        "HipotesisSTD=np.linspace(0.5,3,20)\n",
        "MuestrasHipotesis2=[]\n",
        "HistogramasHipotesis2=[]\n",
        "I1=[]\n",
        "for j in range(len(HipotesisSTD)):\n",
        "  for i in range(len(HipotesisMean)):\n",
        "    MuestrasHipotesis2.append(np.random.normal(HipotesisMean[i],HipotesisSTD[j],1000))\n",
        "    HistogramasHipotesis2.append(plt.hist(MuestrasHipotesis2[-1],bins=Nbins2, alpha = 0.5)[0])\n",
        "    I1.append([i,j])"
      ],
      "execution_count": null,
      "outputs": [
        {
          "output_type": "display_data",
          "data": {
            "image/png": "[encoded data removed]",
            "text/plain": [
              "<Figure size 432x288 with 1 Axes>"
            ]
          },
          "metadata": {
            "tags": [],
            "needs_background": "light"
          }
        }
      ]
    },
    {
      "cell_type": "code",
      "metadata": {
        "colab": {
          "base_uri": "https://localhost:8080/"
        },
        "id": "P-deNv2_zx0a",
        "outputId": "2a05a993-4d22-4d97-df6a-3c1358e56ed8"
      },
      "source": [
        "len(HistogramasHipotesis2[1])"
      ],
      "execution_count": null,
      "outputs": [
        {
          "output_type": "execute_result",
          "data": {
            "text/plain": [
              "19"
            ]
          },
          "metadata": {
            "tags": []
          },
          "execution_count": 245
        }
      ]
    },
    {
      "cell_type": "code",
      "metadata": {
        "id": "qDAN5e2Bb3Tp"
      },
      "source": [
        "Analizando1Chi2=[]\n",
        "for i in range(len(HipotesisMean)*len(HipotesisSTD)):\n",
        "  Analizando1Chi2.append(chi2test(HistoGaussRandom1[0],HistogramasHipotesis2[i]))"
      ],
      "execution_count": null,
      "outputs": []
    },
    {
      "cell_type": "code",
      "metadata": {
        "colab": {
          "base_uri": "https://localhost:8080/"
        },
        "id": "HbTL5LWWbiu2",
        "outputId": "7bb07daf-876d-487f-824a-c5b274cb72d8"
      },
      "source": [
        "np.array(Analizando1Chi2).argmin()"
      ],
      "execution_count": null,
      "outputs": [
        {
          "output_type": "execute_result",
          "data": {
            "text/plain": [
              "279"
            ]
          },
          "metadata": {
            "tags": []
          },
          "execution_count": 247
        }
      ]
    },
    {
      "cell_type": "code",
      "metadata": {
        "colab": {
          "base_uri": "https://localhost:8080/"
        },
        "id": "to7JjBYHxygq",
        "outputId": "179198f9-46be-4b38-b6dd-67875b654ff1"
      },
      "source": [
        "I1[279]"
      ],
      "execution_count": null,
      "outputs": [
        {
          "output_type": "execute_result",
          "data": {
            "text/plain": [
              "[0, 19, 13]"
            ]
          },
          "metadata": {
            "tags": []
          },
          "execution_count": 249
        }
      ]
    },
    {
      "cell_type": "code",
      "metadata": {
        "colab": {
          "base_uri": "https://localhost:8080/"
        },
        "id": "h1xY2NkOx26U",
        "outputId": "b66c3bb6-8e38-44e5-85a2-daf3941d74ca"
      },
      "source": [
        "print(HipotesisMean[19])\n",
        "print(HipotesisSTD[13])"
      ],
      "execution_count": null,
      "outputs": [
        {
          "output_type": "stream",
          "text": [
            "75.0\n",
            "2.2105263157894735\n"
          ],
          "name": "stdout"
        }
      ]
    },
    {
      "cell_type": "markdown",
      "metadata": {
        "id": "oMfeB65bO07M"
      },
      "source": [
        "## Ejercicio 5\n",
        "1. Vectorice el procedimiento realizado para calcular el $ln(L)$.\n",
        "2. Basándose en el ejemplo, generalícelo para la estimación simultánea de la media y la desviación estándar de la guassiana."
      ]
    },
    {
      "cell_type": "code",
      "metadata": {
        "id": "g4u8br29LTF2"
      },
      "source": [
        "def GaussianFunc(x,mu,sigma):\n",
        "  return (1./np.sqrt(2*np.pi*sigma**2))*(np.exp(-1*((x-mu)**2)/(2*sigma**2)))"
      ],
      "execution_count": null,
      "outputs": []
    },
    {
      "cell_type": "code",
      "metadata": {
        "id": "go01a0MjLU6V"
      },
      "source": [
        "def LnLikeTest(X,mu,sigma):\n",
        "  LnLike=0.\n",
        "  for i in range(len(X)):\n",
        "    LnLike+=np.log(GaussianFunc(X[i],mu,sigma))\n",
        "  return LnLike"
      ],
      "execution_count": null,
      "outputs": []
    },
    {
      "cell_type": "code",
      "metadata": {
        "id": "Ev1ogK0FLWwe"
      },
      "source": [
        "Media=np.random.uniform(60,70)\n",
        "STD=1\n",
        "GaussianaRandom = np.random.normal(Media,STD,100)"
      ],
      "execution_count": null,
      "outputs": []
    },
    {
      "cell_type": "code",
      "metadata": {
        "id": "H0Rkak0WLYue"
      },
      "source": [
        "HipotesisMean=np.linspace(60,70,50)\n",
        "HipotesisSTD=np.linspace(0.5,2,50)\n",
        "LnLikeHipotesis=[]\n",
        "for i in range(len(HipotesisMean)):\n",
        "  LnLikeHipotesis.append(LnLikeTest(GaussianaRandom,HipotesisMean[i],STD))"
      ],
      "execution_count": null,
      "outputs": []
    },
    {
      "cell_type": "code",
      "metadata": {
        "id": "VgkO5gi6PO-e"
      },
      "source": [
        ""
      ],
      "execution_count": null,
      "outputs": []
    },
    {
      "cell_type": "code",
      "metadata": {
        "colab": {
          "base_uri": "https://localhost:8080/",
          "height": 265
        },
        "id": "S2Qltmj6Lar2",
        "outputId": "104c0a51-5cc2-4366-d02a-44c370d57d47"
      },
      "source": [
        "plt.plot(HipotesisMean,LnLikeHipotesis)\n",
        "plt.vlines(Media,min(LnLikeHipotesis),max(LnLikeHipotesis))\n",
        "plt.show()"
      ],
      "execution_count": null,
      "outputs": [
        {
          "output_type": "display_data",
          "data": {
            "image/png": "[encoded data removed]",
            "text/plain": [
              "<Figure size 432x288 with 1 Axes>"
            ]
          },
          "metadata": {
            "tags": [],
            "needs_background": "light"
          }
        }
      ]
    },
    {
      "cell_type": "code",
      "metadata": {
        "colab": {
          "base_uri": "https://localhost:8080/"
        },
        "id": "-acXBMOWMHY6",
        "outputId": "16ca290b-81f2-47d2-a530-c8b32f7428da"
      },
      "source": [
        "vLnLikeTest=np.vectorize(LnLikeTest, excluded=['X'])\n",
        "vLnLikeTest(X=GaussianaRandom,mu=HipotesisMean,sigma=STD)"
      ],
      "execution_count": null,
      "outputs": [
        {
          "output_type": "execute_result",
          "data": {
            "text/plain": [
              "array([-2391.77665481, -2256.59048976, -2125.56925599, -1998.7129535 ,\n",
              "       -1876.02158229, -1757.49514236, -1643.13363371, -1532.93705633,\n",
              "       -1426.90541023, -1325.03869542, -1227.33691188, -1133.80005962,\n",
              "       -1044.42813863,  -959.22114893,  -878.1790905 ,  -801.30196336,\n",
              "        -728.58976749,  -660.0425029 ,  -595.66016959,  -535.44276756,\n",
              "        -479.39029681,  -427.50275733,  -379.78014914,  -336.22247222,\n",
              "        -296.82972658,  -261.60191222,  -230.53902914,  -203.64107734,\n",
              "        -180.90805681,  -162.33996757,  -147.9368096 ,  -137.69858291,\n",
              "        -131.6252875 ,  -129.71692337,  -131.97349052,  -138.39498895,\n",
              "        -148.98141865,  -163.73277963,  -182.6490719 ,  -205.73029544,\n",
              "        -232.97645026,  -264.38753636,  -299.96355373,  -339.70450239,\n",
              "        -383.61038232,  -431.68119353,  -483.91693603,  -540.3176098 ,\n",
              "        -600.88321484,  -665.61375117])"
            ]
          },
          "metadata": {
            "tags": []
          },
          "execution_count": 107
        }
      ]
    },
    {
      "cell_type": "code",
      "metadata": {
        "id": "jJCwAIWWOy3J"
      },
      "source": [
        "LnLikeHipotesis1=[]\n",
        "I=[]\n",
        "k=0\n",
        "for j in range(len(HipotesisSTD)):\n",
        "  for i in range(len(HipotesisMean)):\n",
        "    LnLikeHipotesis1.append(LnLikeTest(GaussianaRandom,HipotesisMean[i],HipotesisSTD[j]))\n",
        "    I.append([k,i,j])\n",
        "    k=k+1"
      ],
      "execution_count": null,
      "outputs": []
    },
    {
      "cell_type": "code",
      "metadata": {
        "colab": {
          "base_uri": "https://localhost:8080/"
        },
        "id": "JBj_QtB5QTgF",
        "outputId": "63fc08f6-2a17-4a0c-d64a-876fea17380b"
      },
      "source": [
        "vLnLikeTest(X=GaussianaRandom,mu=HipotesisMean,sigma=HipotesisSTD)"
      ],
      "execution_count": null,
      "outputs": [
        {
          "output_type": "execute_result",
          "data": {
            "text/plain": [
              "array([-9222.11034122, -7717.03719343, -6490.79771894, -5483.28523474,\n",
              "       -4649.36562841, -3954.66499873, -3372.66940834, -2882.69130756,\n",
              "       -2468.41996693, -2116.87263191, -1817.62520016, -1562.24083346,\n",
              "       -1343.84067763, -1156.77791333,  -996.38782822,  -858.79442986,\n",
              "        -740.7595371 ,  -639.56408711,  -552.91408963,  -478.86559411,\n",
              "        -415.76443666,  -362.19755972,  -316.95345515,  -278.98984655,\n",
              "        -247.40715016,  -221.4265756 ,  -200.37197186,  -183.6547126 ,\n",
              "        -170.76105951,  -161.24155603,  -154.70209165,  -150.79634677,\n",
              "        -149.21938309,  -149.70218805,  -152.00701693,  -155.92340409,\n",
              "        -161.26473753,  -167.86530918,  -175.57776817,  -184.27091659,\n",
              "        -193.82779698,  -204.1440292 ,  -215.12636089,  -226.69140145,\n",
              "        -238.76451392,  -251.2788433 ,  -264.17446279,  -277.39762229,\n",
              "        -290.90008574,  -304.63854584])"
            ]
          },
          "metadata": {
            "tags": []
          },
          "execution_count": 109
        }
      ]
    },
    {
      "cell_type": "code",
      "metadata": {
        "colab": {
          "base_uri": "https://localhost:8080/"
        },
        "id": "uwLVcbpmRUX1",
        "outputId": "260398c1-62d7-4d60-e83f-ae7672a98b1b"
      },
      "source": [
        "np.argmax(LnLikeHipotesis1)"
      ],
      "execution_count": null,
      "outputs": [
        {
          "output_type": "execute_result",
          "data": {
            "text/plain": [
              "633"
            ]
          },
          "metadata": {
            "tags": []
          },
          "execution_count": 110
        }
      ]
    },
    {
      "cell_type": "code",
      "metadata": {
        "colab": {
          "base_uri": "https://localhost:8080/"
        },
        "id": "dNrk8wHgSmrY",
        "outputId": "f7806749-82b6-4f90-8400-f1bb97a05979"
      },
      "source": [
        "I[np.argmax(LnLikeHipotesis1)][1]"
      ],
      "execution_count": null,
      "outputs": [
        {
          "output_type": "execute_result",
          "data": {
            "text/plain": [
              "33"
            ]
          },
          "metadata": {
            "tags": []
          },
          "execution_count": 112
        }
      ]
    },
    {
      "cell_type": "code",
      "metadata": {
        "colab": {
          "base_uri": "https://localhost:8080/"
        },
        "id": "IImcR5yLTX7U",
        "outputId": "87c734f9-51f1-46b8-cfc4-3ae6c5dec4a0"
      },
      "source": [
        "print('Media=',HipotesisMean[I[np.argmax(LnLikeHipotesis1)][1]],'STD=',HipotesisSTD[I[np.argmax(LnLikeHipotesis1)][2]])"
      ],
      "execution_count": null,
      "outputs": [
        {
          "output_type": "stream",
          "text": [
            "Media= 66.73469387755102 STD= 0.8673469387755102\n"
          ],
          "name": "stdout"
        }
      ]
    }
  ]
}